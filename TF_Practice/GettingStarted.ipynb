{
 "cells": [
  {
   "cell_type": "code",
   "execution_count": 1,
   "metadata": {
    "collapsed": true
   },
   "outputs": [],
   "source": [
    "import tensorflow as tf"
   ]
  },
  {
   "cell_type": "code",
   "execution_count": 19,
   "metadata": {},
   "outputs": [],
   "source": [
    "zero_tsr = tf.zeros([3,2])\n",
    "ones_tsr = tf.ones([3,2])\n",
    "filled_tsr = tf.fill([3,2],42)\n",
    "\n",
    "# Create tensor out of existing constant\n",
    "constant_tsr = tf.constant([1,2,3])\n",
    "\n",
    "# Must be initialized in order, since they rely on previous tensors\n",
    "zeros_similar = tf.zeros_like(constant_tsr)\n",
    "ones_similar = tf.ones_like(constant_tsr)\n",
    "\n",
    "# tensor resulting in [0.0,0.5,1.0]\n",
    "linear_tsr = tf.linspace(start=0.0,stop=1.0,num=3)\n",
    "\n",
    "# tensor resulting in [6,9,12]\n",
    "integer_seq_tsr = tf.range(start=6,limit=15,delta=3)\n",
    "\n",
    "# tensor resulting in random numbers with uniform distribution between 0 and 1, minval <= X < maxval\n",
    "randunif_tsr = tf.random_uniform([3,2],minval=0,maxval=1)\n",
    "\n",
    "# tensor with random draw from normal distribution\n",
    "randnorm_tsr = tf.random_normal([3,2],mean=0.0,stddev=1.0)\n",
    "\n",
    "# Always picks normal values within 2 std devs\n",
    "runcnorm_tsr = tf.truncated_normal([3,2],mean=0.0,stddev=1.0)\n",
    "\n",
    "# Randomize entries of arrays\n",
    "crop_size = [2,1]\n",
    "shuffled_output = tf.random_shuffle(filled_tsr)\n",
    "cropped_output = tf.random_crop(filled_tsr,crop_size)\n",
    "\n",
    "# Randomly crop an image of size (height, weight, 3\n",
    "# cropped_image = tf.random_crop(my_image, [height/2,width/2,3])"
   ]
  },
  {
   "cell_type": "code",
   "execution_count": 20,
   "metadata": {},
   "outputs": [],
   "source": [
    "# After creating tensors, create corresponding variables by wrapping tensor in variable function\n",
    "my_var = tf.Variable(tf.zeros([3,2]))"
   ]
  },
  {
   "cell_type": "code",
   "execution_count": 21,
   "metadata": {},
   "outputs": [],
   "source": [
    "# Variables are parameters of algorithm, TF keeps track of how to change them to optimize algorithm\n",
    "# Placeholders are objects you use to feed in data of specific type and shape\n",
    "# Initializing puts it on the computational graph\n",
    "my_var = tf.Variable(tf.zeros([3,2]))\n",
    "sess = tf.Session()\n",
    "initialize_op = tf.global_variables_initializer()\n",
    "sess.run(initialize_op)"
   ]
  },
  {
   "cell_type": "code",
   "execution_count": 22,
   "metadata": {},
   "outputs": [
    {
     "data": {
      "text/plain": [
       "array([[0.7961337 , 0.10480129],\n       [0.30529642, 0.22791238]], dtype=float32)"
      ]
     },
     "execution_count": 22,
     "metadata": {},
     "output_type": "execute_result"
    }
   ],
   "source": [
    "# Placeholders get data from feed_dict argument in the session\n",
    "import numpy as np\n",
    "sess = tf.Session()\n",
    "x = tf.placeholder(tf.float32,shape=[2,2])\n",
    "y = tf.identity(x)\n",
    "x_vals = np.random.rand(2,2)\n",
    "\n",
    "# y is the operation that will be run, feed_dict feeds x_vals into placebolder x\n",
    "sess.run(y,feed_dict={x:x_vals})"
   ]
  },
  {
   "cell_type": "code",
   "execution_count": 23,
   "metadata": {},
   "outputs": [],
   "source": [
    "# Need to tell TF when to initialize variables\n",
    "initialize_op = tf.global_variables_initializer()\n",
    "\n",
    "# To initialize based on results of initializing another variable, must initialize in order\n",
    "sess = tf.Session()\n",
    "first_var = tf.Variable(tf.zeros([3,2]))\n",
    "sess.run(first_var.initializer)\n",
    "second_var = tf.Variable(tf.zeros_like(first_var))\n",
    "sess.run(second_var.initializer)"
   ]
  },
  {
   "cell_type": "code",
   "execution_count": 24,
   "metadata": {},
   "outputs": [],
   "source": [
    "iden_matrix = tf.diag([1.0,1.0,1.0])\n",
    "A = tf.truncated_normal([2,3])\n",
    "B = tf.fill([2,3],5.0)\n",
    "C = tf.random_uniform([3,2])\n",
    "D = tf.convert_to_tensor(np.array([[1.0,2.0,3.0],[-3.0,-7.0,-1.0],[0.0,5.0,-2.0]]))"
   ]
  },
  {
   "cell_type": "code",
   "execution_count": 25,
   "metadata": {},
   "outputs": [
    {
     "name": "stdout",
     "output_type": "stream",
     "text": [
      "[[1. 0. 0.]\n [0. 1. 0.]\n [0. 0. 1.]]\n"
     ]
    }
   ],
   "source": [
    "print(sess.run(iden_matrix))"
   ]
  },
  {
   "cell_type": "code",
   "execution_count": 26,
   "metadata": {},
   "outputs": [
    {
     "name": "stdout",
     "output_type": "stream",
     "text": [
      "[[-1.104158    0.75994706  1.9520531 ]\n [-1.2386881  -1.0494369  -0.01560644]]\n"
     ]
    }
   ],
   "source": [
    "print(sess.run(A))"
   ]
  },
  {
   "cell_type": "code",
   "execution_count": 27,
   "metadata": {},
   "outputs": [
    {
     "name": "stdout",
     "output_type": "stream",
     "text": [
      "[[5. 5. 5.]\n [5. 5. 5.]]\n"
     ]
    }
   ],
   "source": [
    "print(sess.run(B))"
   ]
  },
  {
   "cell_type": "code",
   "execution_count": 28,
   "metadata": {},
   "outputs": [
    {
     "name": "stdout",
     "output_type": "stream",
     "text": [
      "[[0.5574429  0.9544358 ]\n [0.51281965 0.23435628]\n [0.24480581 0.9201859 ]]\n"
     ]
    }
   ],
   "source": [
    "print(sess.run(C))"
   ]
  },
  {
   "cell_type": "code",
   "execution_count": 29,
   "metadata": {},
   "outputs": [
    {
     "name": "stdout",
     "output_type": "stream",
     "text": [
      "[[ 1.  2.  3.]\n [-3. -7. -1.]\n [ 0.  5. -2.]]\n"
     ]
    }
   ],
   "source": [
    "print(sess.run(D))"
   ]
  },
  {
   "cell_type": "code",
   "execution_count": 30,
   "metadata": {},
   "outputs": [
    {
     "name": "stdout",
     "output_type": "stream",
     "text": [
      "[[5.007455  4.039192  6.540644 ]\n [6.1329594 5.0703993 4.790745 ]]\n"
     ]
    }
   ],
   "source": [
    "print(sess.run(A+B))"
   ]
  },
  {
   "cell_type": "code",
   "execution_count": 31,
   "metadata": {},
   "outputs": [
    {
     "name": "stdout",
     "output_type": "stream",
     "text": [
      "[[5. 5. 5.]\n [5. 5. 5.]]\n"
     ]
    }
   ],
   "source": [
    "print(sess.run(tf.matmul(B,iden_matrix)))"
   ]
  },
  {
   "cell_type": "code",
   "execution_count": 32,
   "metadata": {},
   "outputs": [
    {
     "name": "stdout",
     "output_type": "stream",
     "text": [
      "[[0.37161672 0.16318083 0.8678353 ]\n [0.08664322 0.54044306 0.9985126 ]]\n"
     ]
    }
   ],
   "source": [
    "print(sess.run(tf.transpose(C)))"
   ]
  },
  {
   "cell_type": "code",
   "execution_count": 33,
   "metadata": {},
   "outputs": [
    {
     "name": "stdout",
     "output_type": "stream",
     "text": [
      "-38.0\n"
     ]
    }
   ],
   "source": [
    "print(sess.run(tf.matrix_determinant(D)))"
   ]
  },
  {
   "cell_type": "code",
   "execution_count": 34,
   "metadata": {},
   "outputs": [
    {
     "name": "stdout",
     "output_type": "stream",
     "text": [
      "[[-0.5        -0.5        -0.5       ]\n [ 0.15789474  0.05263158  0.21052632]\n [ 0.39473684  0.13157895  0.02631579]]\n"
     ]
    }
   ],
   "source": [
    "print(sess.run(tf.matrix_inverse(D)))"
   ]
  },
  {
   "cell_type": "code",
   "execution_count": 36,
   "metadata": {},
   "outputs": [
    {
     "name": "stdout",
     "output_type": "stream",
     "text": [
      "[[1. 0. 0.]\n [0. 1. 0.]\n [0. 0. 1.]]\n"
     ]
    }
   ],
   "source": [
    "# Cholesky decomposition\n",
    "print(sess.run(tf.cholesky(iden_matrix)))"
   ]
  },
  {
   "cell_type": "code",
   "execution_count": 37,
   "metadata": {},
   "outputs": [
    {
     "name": "stdout",
     "output_type": "stream",
     "text": [
      "(array([-10.65907521,  -0.22750691,   2.88658212]), array([[ 0.21749542,  0.63250104, -0.74339638],\n       [ 0.84526515,  0.2587998 ,  0.46749277],\n       [-0.4880805 ,  0.73004459,  0.47834331]]))\n"
     ]
    }
   ],
   "source": [
    "# For eigenvalues and eigenvectors, use:\n",
    "# Outputs eigenvalues in the first row, and eigenvectors in the remaining vectors\n",
    "print(sess.run(tf.self_adjoint_eig(D)))"
   ]
  },
  {
   "cell_type": "code",
   "execution_count": 41,
   "metadata": {},
   "outputs": [
    {
     "name": "stdout",
     "output_type": "stream",
     "text": [
      "0\n0.75\n0.0\n2.0\n"
     ]
    }
   ],
   "source": [
    "print(sess.run(tf.div(3,4)))\n",
    "print(sess.run(tf.truediv(3,4)))\n",
    "print(sess.run(tf.floordiv(3.0,4.0)))\n",
    "print(sess.run(tf.mod(22.0,5.0)))"
   ]
  },
  {
   "cell_type": "code",
   "execution_count": 54,
   "metadata": {},
   "outputs": [
    {
     "name": "stdout",
     "output_type": "stream",
     "text": [
      "\n [ 0.  3. 10.]\n\n [0. 3. 6.]\n\n [0.26894143 0.5        0.7310586 ]\n\n [-0.7615942  0.         0.7615942]\n\n [-0.5  0.   0.5]\n\n [0.31326166 0.6931472  1.3132616 ]\n\n [-0.63212055  0.          1.        ]\n"
     ]
    }
   ],
   "source": [
    "# Activation functions live in the neural network (nn) library in tf\n",
    "\n",
    "# ReLU\n",
    "print('\\n',sess.run(tf.nn.relu([-3.0,3.0,10])))\n",
    "\n",
    "# ReLU6 caps the linearly increasing part at 6\n",
    "print('\\n',sess.run(tf.nn.relu6([-3.0,3.0,10])))\n",
    "\n",
    "# Sigmoid function\n",
    "print('\\n',sess.run(tf.nn.sigmoid([-1.0,0.0,1.0])))\n",
    "\n",
    "# Hyper tangent, same as Sigmoid, but goes from -1 to 1 instead of 0 to 1\n",
    "print('\\n',sess.run(tf.nn.tanh([-1.0,0.0,1.0])))\n",
    "\n",
    "# softsign: x / (abs(x) + 1)\n",
    "print('\\n',sess.run(tf.nn.softsign([-1.0,0.0,1.0])))\n",
    "\n",
    "# softplus: log(exp(x) + 1)\n",
    "print('\\n',sess.run(tf.nn.softplus([-1.0,0.0,1.0])))\n",
    "\n",
    "# same as softplus, but bottom asymptote is -1 instead of 0\n",
    "print('\\n',sess.run(tf.nn.elu([-1.0,0.0,1.0])))"
   ]
  },
  {
   "cell_type": "code",
   "execution_count": null,
   "metadata": {},
   "outputs": [],
   "source": []
  }
 ],
 "metadata": {
  "kernelspec": {
   "display_name": "Python 2",
   "language": "python",
   "name": "python2"
  },
  "language_info": {
   "codemirror_mode": {
    "name": "ipython",
    "version": 2
   },
   "file_extension": ".py",
   "mimetype": "text/x-python",
   "name": "python",
   "nbconvert_exporter": "python",
   "pygments_lexer": "ipython2",
   "version": "2.7.6"
  }
 },
 "nbformat": 4,
 "nbformat_minor": 0
}
