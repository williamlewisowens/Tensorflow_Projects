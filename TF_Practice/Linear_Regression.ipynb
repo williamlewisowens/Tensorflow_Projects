{
 "cells": [
  {
   "cell_type": "code",
   "execution_count": 1,
   "metadata": {
    "collapsed": true
   },
   "outputs": [],
   "source": [
    "import tensorflow as tf\n",
    "import matplotlib.pyplot as plt\n",
    "import numpy as np\n",
    "import requests\n",
    "from sklearn import datasets\n",
    "from sklearn.preprocessing import normalize\n",
    "from tensorflow.python.framework import ops"
   ]
  },
  {
   "cell_type": "code",
   "execution_count": 7,
   "metadata": {},
   "outputs": [],
   "source": [
    "# Create data\n",
    "sess = tf.Session()\n",
    "x_vals = np.linspace(0,10,100)\n",
    "y_vals = x_vals + np.random.normal(0,1,100) "
   ]
  },
  {
   "cell_type": "code",
   "execution_count": 10,
   "metadata": {},
   "outputs": [],
   "source": [
    "# Create matricies to use in inverse method\n",
    "x_vals_column = np.transpose(np.matrix(x_vals))\n",
    "ones_column = np.transpose(np.matrix(np.repeat(1,100)))\n",
    "A = np.column_stack((x_vals_column,ones_column))\n",
    "b = np.transpose(np.matrix(y_vals))"
   ]
  },
  {
   "cell_type": "code",
   "execution_count": 11,
   "metadata": {},
   "outputs": [],
   "source": [
    "# Turn matricies into tensors\n",
    "A_tensor = tf.constant(A)\n",
    "b_tensor = tf.constant(b)"
   ]
  },
  {
   "cell_type": "code",
   "execution_count": 12,
   "metadata": {},
   "outputs": [],
   "source": [
    "tA_A = tf.matmul(tf.transpose(A_tensor),A_tensor)\n",
    "tA_A_inv = tf.matrix_inverse(tA_A)\n",
    "product = tf.matmul(tA_A_inv,tf.transpose(A_tensor))\n",
    "solution = tf.matmul(product,b_tensor)\n",
    "solution_eval = sess.run(solution)"
   ]
  },
  {
   "cell_type": "code",
   "execution_count": 15,
   "metadata": {},
   "outputs": [
    {
     "name": "stdout",
     "output_type": "stream",
     "text": [
      "slope: 0.9548465566731147\ny_intercept: 0.12102723406186222\n"
     ]
    }
   ],
   "source": [
    "slope = solution_eval[0][0]\n",
    "y_intercept = solution_eval[1][0]\n",
    "print('slope: ' + str(slope))\n",
    "print('y_intercept: ' + str(y_intercept))"
   ]
  },
  {
   "cell_type": "code",
   "execution_count": 18,
   "metadata": {},
   "outputs": [
    {
     "data": {
      "image/png": "[encoded data removed]",
      "text/plain": [
       "<matplotlib.figure.Figure at 0xaf89ef0>"
      ]
     },
     "metadata": {},
     "output_type": "display_data"
    }
   ],
   "source": [
    "best_fit = []\n",
    "for i in x_vals:\n",
    "    best_fit.append(slope*i+y_intercept)\n",
    "plt.plot(x_vals, y_vals, 'o', label='Data')\n",
    "plt.plot(x_vals, best_fit, 'r-', label='Best fit line',linewidth=3)\n",
    "plt.legend(loc='upper left')\n",
    "plt.show()"
   ]
  },
  {
   "cell_type": "code",
   "execution_count": 2,
   "metadata": {},
   "outputs": [],
   "source": [
    "ops.reset_default_graph()\n",
    "sess = tf.Session()"
   ]
  },
  {
   "cell_type": "code",
   "execution_count": 23,
   "metadata": {},
   "outputs": [],
   "source": [
    "x_vals = np.linspace(0,10,100)\n",
    "y_vals = x_vals + np.random.normal(0,1,100) \n",
    "x_vals_column = np.transpose(np.matrix(x_vals))\n",
    "ones_column = np.transpose(np.matrix(np.repeat(1,100)))\n",
    "A = np.column_stack((x_vals_column,ones_column))\n",
    "b = np.transpose(np.matrix(y_vals))\n",
    "A_tensor = tf.constant(A)\n",
    "b_tensor = tf.constant(b)"
   ]
  },
  {
   "cell_type": "code",
   "execution_count": 24,
   "metadata": {},
   "outputs": [],
   "source": [
    "# Find Cholesky decomposition of square matrix, A_T * A\n",
    "tA_A = tf.matmul(tf.transpose(A_tensor),A_tensor)\n",
    "L = tf.cholesky(tA_A)\n",
    "tA_b = tf.matmul(tf.transpose(A_tensor),b)\n",
    "sol1 = tf.matrix_solve(L,tA_b)\n",
    "sol2 = tf.matrix_solve(tf.transpose(L),sol1)\n",
    "solution_eval = sess.run(sol2)"
   ]
  },
  {
   "cell_type": "code",
   "execution_count": 27,
   "metadata": {},
   "outputs": [
    {
     "name": "stdout",
     "output_type": "stream",
     "text": [
      "slope: 0.9596727212062774\ny_intercept: -0.01754938869029302\n"
     ]
    }
   ],
   "source": [
    "slope = solution_eval[0][0]\n",
    "y_intercept = solution_eval[1][0]\n",
    "print('slope: ' + str(slope))\n",
    "print('y_intercept: ' + str(y_intercept))"
   ]
  },
  {
   "cell_type": "code",
   "execution_count": 28,
   "metadata": {},
   "outputs": [
    {
     "data": {
      "image/png": "[encoded data removed]",
      "text/plain": [
       "<matplotlib.figure.Figure at 0xbad73c8>"
      ]
     },
     "metadata": {},
     "output_type": "display_data"
    }
   ],
   "source": [
    "best_fit = []\n",
    "for i in x_vals:\n",
    "    best_fit.append(slope*i+y_intercept)\n",
    "plt.plot(x_vals, y_vals, 'o', label='Data')\n",
    "plt.plot(x_vals, best_fit, 'r-', label='Best fit line',linewidth=3)\n",
    "plt.legend(loc='upper left')\n",
    "plt.show()"
   ]
  },
  {
   "cell_type": "code",
   "execution_count": 43,
   "metadata": {},
   "outputs": [],
   "source": [
    "ops.reset_default_graph()\n",
    "sess = tf.Session()\n",
    "iris = datasets.load_iris()"
   ]
  },
  {
   "cell_type": "code",
   "execution_count": 44,
   "metadata": {},
   "outputs": [],
   "source": [
    "# Load our data\n",
    "x_vals = np.array([x[3] for x in iris.data])\n",
    "y_vals = np.array([y[0] for y in iris.data])    "
   ]
  },
  {
   "cell_type": "code",
   "execution_count": 45,
   "metadata": {},
   "outputs": [],
   "source": [
    "# Declare learning rate, batch size, placeholders, and variables\n",
    "learning_rate = 0.05\n",
    "batch_size = 25\n",
    "x_data = tf.placeholder(shape=[None,1],dtype=tf.float32)\n",
    "y_target = tf.placeholder(shape=[None,1],dtype=tf.float32)\n",
    "A = tf.Variable(tf.random_normal(shape=[1,1]))\n",
    "b = tf.Variable(tf.random_normal(shape=[1,1]))"
   ]
  },
  {
   "cell_type": "code",
   "execution_count": 46,
   "metadata": {},
   "outputs": [],
   "source": [
    "# Formula for linear model, y = Ax+b\n",
    "model_output = tf.add(tf.multiply(x_data,A),b)"
   ]
  },
  {
   "cell_type": "code",
   "execution_count": 23,
   "metadata": {},
   "outputs": [],
   "source": [
    "# Declare L2 loss function, which includes mean over the batch,\n",
    "# Initialize variables, and declare optimizer\n",
    "loss = tf.reduce_mean(tf.square(y_target-model_output))\n",
    "init = tf.global_variables_initializer()\n",
    "sess.run(init)\n",
    "my_opt = tf.train.GradientDescentOptimizer(learning_rate)\n",
    "train_step = my_opt.minimize(loss)"
   ]
  },
  {
   "cell_type": "code",
   "execution_count": 24,
   "metadata": {},
   "outputs": [
    {
     "name": "stdout",
     "output_type": "stream",
     "text": [
      "Step #25 A = [[2.0755014]] b = [[2.8832545]]\nLoss = 1.3533293\nStep #50 A = [[1.6391134]] b = [[3.6424527]]\nLoss = 0.3581132\nStep #75 A = [[1.334647]] b = [[4.108904]]\nLoss = 0.3310084\nStep #100 A = [[1.1144646]] b = [[4.3729925]]\nLoss = 0.33537397\n"
     ]
    }
   ],
   "source": [
    "loss_vec = []\n",
    "for i in range(100):\n",
    "    rand_index = np.random.choice(len(x_vals), size=batch_size)\n",
    "    rand_x = np.transpose([x_vals[rand_index]])\n",
    "    rand_y = np.transpose([y_vals[rand_index]])\n",
    "    sess.run(train_step, feed_dict={x_data: rand_x, y_target:rand_y})\n",
    "    temp_loss = sess.run(loss, feed_dict={x_data: rand_x, y_target: rand_y})\n",
    "    loss_vec.append(temp_loss)\n",
    "    if (i+1)%25==0:\n",
    "        print('Step #' + str(i+1) + ' A = ' + str(sess.run(A)) + ' b = ' + str(sess.run(b)))\n",
    "        print('Loss = ' + str(temp_loss))"
   ]
  },
  {
   "cell_type": "code",
   "execution_count": 25,
   "metadata": {},
   "outputs": [],
   "source": [
    "[slope] = sess.run(A)\n",
    "[y_intercept] = sess.run(b)\n",
    "best_fit = []\n",
    "for i in x_vals:\n",
    "    best_fit.append(slope*i + y_intercept)"
   ]
  },
  {
   "cell_type": "code",
   "execution_count": 26,
   "metadata": {},
   "outputs": [
    {
     "data": {
      "image/png": "[encoded data removed]",
      "text/plain": [
       "<matplotlib.figure.Figure at 0xcbf3630>"
      ]
     },
     "metadata": {},
     "output_type": "display_data"
    }
   ],
   "source": [
    "plt.plot(x_vals, y_vals, 'o', label='Data Points')\n",
    "plt.plot(x_vals, best_fit, 'r-', label='Best fit line',linewidth=3)\n",
    "plt.legend(loc='upper left')\n",
    "plt.title('Sepal Length vs Pedal Width')\n",
    "plt.xlabel('Pedal Width')\n",
    "plt.ylabel('Sepal Length')\n",
    "plt.show()"
   ]
  },
  {
   "cell_type": "code",
   "execution_count": 27,
   "metadata": {},
   "outputs": [
    {
     "data": {
      "image/png": "[encoded data removed]",
      "text/plain": [
       "<matplotlib.figure.Figure at 0xce8ae10>"
      ]
     },
     "metadata": {},
     "output_type": "display_data"
    }
   ],
   "source": [
    "plt.plot(loss_vec, 'k-')\n",
    "plt.title('L2 Loss per Generation')\n",
    "plt.xlabel('Generation')\n",
    "plt.ylabel('L2 Loss')\n",
    "plt.show()"
   ]
  },
  {
   "cell_type": "code",
   "execution_count": 33,
   "metadata": {},
   "outputs": [],
   "source": [
    "# Demonstrating how L2 and L1 loss functions affect convergence in linear regression\n",
    "# Same as the previous graph, up until the loss function\n",
    "# ops.reset_default_graph()\n",
    "sess = tf.Session()\n",
    "iris = datasets.load_iris()\n",
    "x_vals = np.array([x[3] for x in iris.data])\n",
    "y_vals = np.array([y[0] for y in iris.data])  \n",
    "learning_rate = 0.1\n",
    "batch_size = 25\n",
    "iterations = 100\n",
    "x_data = tf.placeholder(shape=[None,1],dtype=tf.float32)\n",
    "y_target = tf.placeholder(shape=[None,1],dtype=tf.float32)\n",
    "A = tf.Variable(tf.random_normal(shape=[1,1]))\n",
    "b = tf.Variable(tf.random_normal(shape=[1,1]))\n",
    "model_output = tf.add(tf.multiply(x_data,A),b)"
   ]
  },
  {
   "cell_type": "code",
   "execution_count": 34,
   "metadata": {},
   "outputs": [],
   "source": [
    "# Use L1 loss instead of L2 loss\n",
    "# loss_l2 would be implemented with:\n",
    "# loss_l2 = tf.reduce_mean(tf.square(y_target – model_output))\n",
    "loss_l1 = tf.reduce_mean(tf.abs(y_target - model_output))"
   ]
  },
  {
   "cell_type": "code",
   "execution_count": 35,
   "metadata": {},
   "outputs": [],
   "source": [
    "# Initialize variables, and declare optimizer\n",
    "init = tf.global_variables_initializer()\n",
    "sess.run(init)\n",
    "my_opt_l1 = tf.train.GradientDescentOptimizer(learning_rate)\n",
    "train_step_l1 = my_opt_l1.minimize(loss_l1)"
   ]
  },
  {
   "cell_type": "code",
   "execution_count": 36,
   "metadata": {},
   "outputs": [
    {
     "name": "stdout",
     "output_type": "stream",
     "text": [
      "Step #25 A = [[2.7602582]]b = [[1.6670668]]\nStep #50 A = [[2.462258]]b = [[2.4630668]]\nStep #75 A = [[2.0518577]]b = [[3.139067]]\nStep #100 A = [[1.6330576]]b = [[3.7350678]]\n"
     ]
    }
   ],
   "source": [
    "loss_vec_l1 = []\n",
    "for i in range(iterations):\n",
    "    rand_index = np.random.choice(len(x_vals), size=batch_size)\n",
    "    rand_x = np.transpose([x_vals[rand_index]])\n",
    "    rand_y = np.transpose([y_vals[rand_index]])\n",
    "    sess.run(train_step_l1, feed_dict={x_data: rand_x, y_target:rand_y})\n",
    "    temp_loss_l1 = sess.run(loss_l1, feed_dict={x_data: rand_x,y_target: rand_y})\n",
    "    loss_vec_l1.append(temp_loss_l1)\n",
    "    if (i+1)%25==0:\n",
    "        print('Step #' + str(i+1) + ' A = ' + str(sess.run(A)) + 'b = ' + str(sess.run(b)))"
   ]
  },
  {
   "cell_type": "code",
   "execution_count": 37,
   "metadata": {},
   "outputs": [
    {
     "data": {
      "image/png": "[encoded data removed]",
      "text/plain": [
       "<matplotlib.figure.Figure at 0xe476048>"
      ]
     },
     "metadata": {},
     "output_type": "display_data"
    }
   ],
   "source": [
    "plt.plot(loss_vec_l1, 'k-', label='L1 Loss')\n",
    "plt.plot(loss_vec, 'r--', label='L2 Loss')\n",
    "plt.title('L1 and L2 Loss per Generation')\n",
    "plt.xlabel('Generation')\n",
    "plt.ylabel('L1 Loss')\n",
    "plt.legend(loc='upper right')\n",
    "plt.show()"
   ]
  },
  {
   "cell_type": "code",
   "execution_count": 103,
   "metadata": {},
   "outputs": [],
   "source": [
    "# If learning rate is small, convergence will take more time, but if too large, issues with algorithm never converging\n",
    "# Large learning rate can overshoot L2 norm, where L1 norm converges\n",
    "ops.reset_default_graph()\n",
    "sess = tf.Session()\n",
    "iris = datasets.load_iris()\n",
    "x_vals = np.array([x[3] for x in iris.data])\n",
    "y_vals = np.array([y[0] for y in iris.data])\n",
    "batch_size = 50\n",
    "x_data = tf.placeholder(shape=[None, 1], dtype=tf.float32)\n",
    "y_target = tf.placeholder(shape=[None, 1], dtype=tf.float32)\n",
    "A = tf.Variable(tf.random_normal(shape=[1,1]))\n",
    "b = tf.Variable(tf.random_normal(shape=[1,1]))\n",
    "model_output = tf.add(tf.matmul(x_data, A), b)"
   ]
  },
  {
   "cell_type": "code",
   "execution_count": 104,
   "metadata": {},
   "outputs": [],
   "source": [
    "# Linear regression minimizes vertical distance to line, Deming regression minimizes the total distance to the line\n",
    "# To implement, we need to modify the loss function with a known geometric formula\n",
    "demming_numerator = tf.abs(tf.subtract(y_target, tf.add(tf.matmul(x_data, A), b)))\n",
    "demming_denominator = tf.sqrt(tf.add(tf.square(A),1))\n",
    "loss = tf.reduce_mean(tf.truediv(demming_numerator, demming_denominator))"
   ]
  },
  {
   "cell_type": "code",
   "execution_count": 105,
   "metadata": {},
   "outputs": [],
   "source": [
    "# Initialize variables, and declare optimizer\n",
    "init = tf.global_variables_initializer()\n",
    "sess.run(init)\n",
    "my_opt = tf.train.GradientDescentOptimizer(0.1)\n",
    "train_step = my_opt.minimize(loss)"
   ]
  },
  {
   "cell_type": "code",
   "execution_count": 106,
   "metadata": {},
   "outputs": [
    {
     "name": "stdout",
     "output_type": "stream",
     "text": [
      "Step #50 A = [[3.987839]] b = [[-0.39048037]]\nLoss = 0.48009393\nStep #100 A = [[4.290741]] b = [[-0.07489084]]\nLoss = 0.6537255\nStep #150 A = [[4.3228817]] b = [[0.06432765]]\nLoss = 0.51803195\nStep #200 A = [[4.2734795]] b = [[0.1416346]]\nLoss = 0.4827534\nStep #250 A = [[4.2139354]] b = [[0.21867763]]\nLoss = 0.5245945\n"
     ]
    },
    {
     "name": "stdout",
     "output_type": "stream",
     "text": [
      "Step #300 A = [[4.141712]] b = [[0.29410022]]\nLoss = 0.4771246\nStep #350 A = [[4.085622]] b = [[0.3867401]]\nLoss = 0.4759603\n"
     ]
    },
    {
     "name": "stdout",
     "output_type": "stream",
     "text": [
      "Step #400 A = [[4.0288634]] b = [[0.48586714]]\nLoss = 0.5354586\nStep #450 A = [[3.9463413]] b = [[0.55704826]]\nLoss = 0.43429822\nStep #500 A = [[3.8776972]] b = [[0.64888275]]\nLoss = 0.43322137\n"
     ]
    },
    {
     "name": "stdout",
     "output_type": "stream",
     "text": [
      "Step #550 A = [[3.813828]] b = [[0.7454345]]\nLoss = 0.4647456\nStep #600 A = [[3.73924]] b = [[0.8371984]]\nLoss = 0.5439685\nStep #650 A = [[3.6602845]] b = [[0.9348913]]\nLoss = 0.50999403\n"
     ]
    },
    {
     "name": "stdout",
     "output_type": "stream",
     "text": [
      "Step #700 A = [[3.6047683]] b = [[1.064156]]\nLoss = 0.4720312\nStep #750 A = [[3.4729538]] b = [[1.1458948]]\nLoss = 0.4140818\nStep #800 A = [[3.3850863]] b = [[1.2629315]]\nLoss = 0.39662373\nStep #850 A = [[3.3321264]] b = [[1.4082127]]\nLoss = 0.49684674\nStep #900 A = [[3.2506845]] b = [[1.5402925]]\nLoss = 0.46440923\nStep #950 A = [[3.1419995]] b = [[1.6699963]]\nLoss = 0.40464902\n"
     ]
    },
    {
     "name": "stdout",
     "output_type": "stream",
     "text": [
      "Step #1000 A = [[3.0417876]] b = [[1.8027575]]\nLoss = 0.4941217\n"
     ]
    }
   ],
   "source": [
    "loss_vec = []\n",
    "for i in range(1000):\n",
    "    rand_index = np.random.choice(len(x_vals), size=batch_size)\n",
    "    rand_x = np.transpose([x_vals[rand_index]])\n",
    "    rand_y = np.transpose([y_vals[rand_index]])\n",
    "    sess.run(train_step, feed_dict={x_data: rand_x, y_target:rand_y})\n",
    "    temp_loss = sess.run(loss, feed_dict={x_data: rand_x, y_target: rand_y})\n",
    "    loss_vec.append(temp_loss)\n",
    "    if (i+1)%50==0:\n",
    "        print('Step #''' + str(i+1) + ' A = ' + str(sess.run(A)) + ' b = ' + str(sess.run(b)))\n",
    "        print('Loss = ' + str(temp_loss))"
   ]
  },
  {
   "cell_type": "code",
   "execution_count": 107,
   "metadata": {},
   "outputs": [
    {
     "data": {
      "image/png": "[encoded data removed]",
      "text/plain": [
       "<matplotlib.figure.Figure at 0xd0f2240>"
      ]
     },
     "metadata": {},
     "output_type": "display_data"
    }
   ],
   "source": [
    "[slope] = sess.run(A)\n",
    "[y_intercept] = sess.run(b)\n",
    "best_fit = []\n",
    "for i in x_vals:\n",
    "    best_fit.append(slope*i+y_intercept)\n",
    "plt.plot(x_vals, y_vals, 'o', label='Data Points')\n",
    "plt.plot(x_vals, best_fit, 'r-', label='Best fit line',linewidth=3)\n",
    "plt.legend(loc='upper left')\n",
    "plt.title('Sepal Length vs Pedal Width')\n",
    "plt.xlabel('Pedal Width')\n",
    "plt.ylabel('Sepal Length')\n",
    "plt.show()"
   ]
  },
  {
   "cell_type": "code",
   "execution_count": null,
   "metadata": {},
   "outputs": [],
   "source": [
    "# Lasso and Ridge Regression are very similar to linear regression, except adding regularization terms to limit slopes\n",
    "# Restrict features that have impact on dependent variable by adding term to loss function that depends on the value of our slope\n",
    "\n",
    "# For Lasso, add term that greatly increases loss function if slope A gets above a certain value\n",
    "# Use continuous approximation to a step function, called continuous heavy step function\n",
    "lasso_param = tf.constant(0.9)\n",
    "heavyside_step = tf.truediv(1., tf.add(1., tf.exp(tf.mul(-100.,tf.sub(A, lasso_param)))))\n",
    "regularization_param = tf.mul(heavyside_step, 99.)\n",
    "loss = tf.add(tf.reduce_mean(tf.square(y_target - model_output)),regularization_param)\n",
    "\n",
    "# For Ridge, add term to L2 norm, which is scaled L2 norm of the slope coefficient\n",
    "ridge_param = tf.constant(1.)\n",
    "ridge_loss = tf.reduce_mean(tf.square(A))\n",
    "loss = tf.expand_dims(tf.add(tf.reduce_mean(tf.square(y_target - model_output)), tf.mul(ridge_param, ridge_loss)), 0)"
   ]
  },
  {
   "cell_type": "code",
   "execution_count": null,
   "metadata": {},
   "outputs": [],
   "source": [
    "# Elastic Net Regression combines lasso and ridge regression by adding L1 and L2 regularization term to loss function\n",
    "elastic_param1 = tf.constant(1.)\n",
    "elastic_param2 = tf.constant(1.)\n",
    "l1_a_loss = tf.reduce_mean(tf.abs(A))\n",
    "l2_a_loss = tf.reduce_mean(tf.square(A))\n",
    "e1_term = tf.mul(elastic_param1, l1_a_loss)\n",
    "e2_term = tf.mul(elastic_param2, l2_a_loss)\n",
    "loss = tf.expand_dims(tf.add(tf.add(tf.reduce_mean(tf.square(y_target - model_output)), e1_term), e2_term), 0)"
   ]
  },
  {
   "cell_type": "code",
   "execution_count": 6,
   "metadata": {},
   "outputs": [],
   "source": [
    "ops.reset_default_graph()\n",
    "sess = tf.Session()"
   ]
  },
  {
   "cell_type": "code",
   "execution_count": 13,
   "metadata": {},
   "outputs": [
    {
     "name": "stdout",
     "output_type": "stream",
     "text": [
      "0\n"
     ]
    }
   ],
   "source": [
    "# Website is forbidden, won't return results, completing as practice\n",
    "birthdata_url = 'https://www.umass.edu/statdata/statdata/data/lowbwt.dat'\n",
    "birth_file = requests.get(birthdata_url)\n",
    "birth_data = birth_file.text.split('\\r\\n')[5:]\n",
    "birth_data\n",
    "birth_header = [x for x in birth_data[0].split('') if len(x) >= 1]\n",
    "birth_data = [[float(x) for x in y.split( '') if len(x)>=1] for y in birth_data[1:] if len(y)>=1]\n",
    "y_vals = np.array([x[1] for x in birth_data])\n",
    "x_vals = np.array([x[2:9] for x in birth_data])"
   ]
  },
  {
   "cell_type": "code",
   "execution_count": 17,
   "metadata": {},
   "outputs": [
    {
     "ename": "SyntaxError",
     "evalue": "invalid syntax (<ipython-input-17-fbfb07235841>, line 4)",
     "traceback": [
      "\u001b[1;36m  File \u001b[1;32m\"<ipython-input-17-fbfb07235841>\"\u001b[1;36m, line \u001b[1;32m4\u001b[0m\n\u001b[1;33m    x_vals_train =\u001b[0m\n\u001b[1;37m                  ^\u001b[0m\n\u001b[1;31mSyntaxError\u001b[0m\u001b[1;31m:\u001b[0m invalid syntax\n"
     ],
     "output_type": "error"
    }
   ],
   "source": [
    "# Split dataset into train and test sets\n",
    "train_indicies = np.random.choice(len(x_vals), round(len(x_vals)*0.8),replace=False)\n",
    "test_indicies = np.array(list(set(range(len(x_vals))) - set(train_indicies)))\n",
    "x_vals_train = x_vals[train_indicies]\n",
    "x_vals_test = x_vals[test_indicies]\n",
    "y_vals_train = y_vals[train_indicies]\n",
    "y_vals_test = y_vals[test_indicies]"
   ]
  },
  {
   "cell_type": "code",
   "execution_count": 18,
   "metadata": {},
   "outputs": [],
   "source": [
    "# Logistic regression convergence works best when features are scaled between 0 and 1\n",
    "def normalize_cols(m):\n",
    "    col_max = m.max(axis=0)\n",
    "    col_min = m.min(axis=0)\n",
    "    return (m-col_min) / (col_max-col_min)"
   ]
  },
  {
   "cell_type": "code",
   "execution_count": null,
   "metadata": {},
   "outputs": [],
   "source": [
    "# Split into train and test before normalize, don't want training set to influence test set at all\n",
    "x_vals_train = np.nan_to_num(normalize_cols(x_vals_train))\n",
    "x_vals_test = np.nan_to_num(normalize_cols(x_vals_test))"
   ]
  },
  {
   "cell_type": "code",
   "execution_count": 19,
   "metadata": {},
   "outputs": [],
   "source": [
    "# Declare batch size, placeholders, variables, and logistic model\n",
    "# Sigmoid operation is built into our loss function\n",
    "batch_size = 25\n",
    "x_data = tf.placeholder(shape=[None, 7], dtype=tf.float32)\n",
    "y_target = tf.placeholder(shape=[None, 1], dtype=tf.float32)\n",
    "A = tf.Variable(tf.random_normal(shape=[7,1]))\n",
    "b = tf.Variable(tf.random_normal(shape=[1,1]))\n",
    "model_output = tf.add(tf.matmul(x_data, A), b)"
   ]
  },
  {
   "cell_type": "code",
   "execution_count": 21,
   "metadata": {},
   "outputs": [],
   "source": [
    "# Loss function has the sigmoid function, initialize variables, declare optimizer\n",
    "loss = tf.reduce_mean(tf.nn.sigmoid_cross_entropy_with_logits(logits=model_output, labels=y_target))\n",
    "init = tf.global_variables_initializer()\n",
    "sess.run(init)\n",
    "my_opt = tf.train.GradientDescentOptimizer(0.01)\n",
    "train_step = my_opt.minimize(loss)"
   ]
  },
  {
   "cell_type": "code",
   "execution_count": null,
   "metadata": {},
   "outputs": [],
   "source": [
    "# Record loss function and classification accuracy on training and test set\n",
    "# Returns accuracy for any batch size\n",
    "prediction = tf.round(tf.sigmoid(model_output))\n",
    "predictions_correct = tf.cast(tf.equal(prediction, y_target),tf.float32)\n",
    "accuracy = tf.reduce_mean(predictions_correct)"
   ]
  },
  {
   "cell_type": "code",
   "execution_count": null,
   "metadata": {},
   "outputs": [],
   "source": [
    "# Start training loop and record loss and accuracies\n",
    "loss_vec = []\n",
    "train_acc = []\n",
    "test_acc = []\n",
    "for i in range(1500):\n",
    "    rand_index = np.random.choice(len(x_vals_train), size=batch_size)\n",
    "    rand_x = x_vals_train[rand_index]\n",
    "    rand_y = np.transpose([y_vals_train[rand_index]])\n",
    "    sess.run(train_step, feed_dict={x_data: rand_x, y_target:rand_y})\n",
    "    temp_loss = sess.run(loss, feed_dict={x_data: rand_x, y_target: rand_y})\n",
    "    loss_vec.append(temp_loss)\n",
    "    temp_acc_train = sess.run(accuracy, feed_dict={x_data: x_vals_train, y_target: np.transpose([y_vals_train])})\n",
    "    train_acc.append(temp_acc_train)\n",
    "    temp_acc_test = sess.run(accuracy, feed_dict={x_data: x_vals_test, y_target: np.transpose([y_vals_test])})\n",
    "    test_acc.append(temp_acc_test)"
   ]
  },
  {
   "cell_type": "code",
   "execution_count": null,
   "metadata": {},
   "outputs": [],
   "source": [
    "# Plot loss and accuracies\n",
    "plt.plot(loss_vec, 'k-')\n",
    "plt.title('Cross Entropy Loss per Generation')\n",
    "plt.xlabel('Generation')\n",
    "plt.ylabel('Cross Entropy Loss')\n",
    "plt.show()\n",
    "plt.plot(train_acc, 'k-', label='Train Set Accuracy')\n",
    "plt.plot(test_acc, 'r--', label='Test Set Accuracy')\n",
    "plt.title('Train and Test Accuracy')\n",
    "plt.xlabel('Generation')\n",
    "plt.ylabel('Accuracy')\n",
    "plt.legend(loc='lower right')\n",
    "plt.show()"
   ]
  }
 ],
 "metadata": {
  "kernelspec": {
   "display_name": "Python 2",
   "language": "python",
   "name": "python2"
  },
  "language_info": {
   "codemirror_mode": {
    "name": "ipython",
    "version": 2
   },
   "file_extension": ".py",
   "mimetype": "text/x-python",
   "name": "python",
   "nbconvert_exporter": "python",
   "pygments_lexer": "ipython2",
   "version": "2.7.6"
  }
 },
 "nbformat": 4,
 "nbformat_minor": 0
}
