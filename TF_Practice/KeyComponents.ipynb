{
 "cells": [
  {
   "cell_type": "code",
   "execution_count": 19,
   "metadata": {
    "collapsed": true
   },
   "outputs": [],
   "source": [
    "import tensorflow as tf\n",
    "import numpy as np\n",
    "sess = tf.Session()"
   ]
  },
  {
   "cell_type": "code",
   "execution_count": 20,
   "metadata": {},
   "outputs": [
    {
     "name": "stdout",
     "output_type": "stream",
     "text": [
      "3.0\n9.0\n15.0\n21.0\n27.0\n"
     ]
    }
   ],
   "source": [
    "x_vals = np.array([1., 3., 5., 7., 9.])\n",
    "x_data = tf.placeholder(tf.float32)\n",
    "m_const = tf.constant(3.)\n",
    "my_product = tf.multiply(x_data, m_const)\n",
    "for x_val in x_vals:\n",
    "    print(sess.run(my_product, feed_dict={x_data:x_val}))"
   ]
  },
  {
   "cell_type": "code",
   "execution_count": 21,
   "metadata": {},
   "outputs": [
    {
     "name": "stdout",
     "output_type": "stream",
     "text": [
      "[[102.]\n [ 66.]\n [ 58.]]\n[[114.]\n [ 78.]\n [ 70.]]\n"
     ]
    }
   ],
   "source": [
    "# 3x5 array\n",
    "my_array = np.array([[1., 3., 5., 7., 9.],\n",
    "                     [-2., 0., 2., 4., 6.],\n",
    "                     [-6., -3., 0., 3., 6.]])\n",
    "\n",
    "# creates a second 3x5 array\n",
    "x_vals = np.array([my_array, my_array + 1])\n",
    "\n",
    "# Declare the tf placeholder\n",
    "# If we do not know the shape beforehand, use tf.placeholder(tf.float32, shape=(3,None))\n",
    "x_data = tf.placeholder(tf.float32, shape=(3, 5))\n",
    "\n",
    "# Create three constants, size 5x1 and two scalers\n",
    "m1 = tf.constant([[1.],[0.],[-1.],[2.],[4.]])\n",
    "m2 = tf.constant([[2.]])\n",
    "a1 = tf.constant([[10.]])\n",
    "\n",
    "# Declare the operations\n",
    "# matmul of 3x5 and 5x1, resulting in 3x1\n",
    "prod1 = tf.matmul(x_data,m1)\n",
    "\n",
    "# matmul of 3x1 and scaler, resulting in 3x1\n",
    "prod2 = tf.matmul(prod1,m2)\n",
    "\n",
    "# add of 3x1 and scaler\n",
    "add1 = tf.add(prod2,a1)\n",
    "\n",
    "for x_val in x_vals:\n",
    "    print(sess.run(add1, feed_dict={x_data:x_val}))"
   ]
  },
  {
   "cell_type": "code",
   "execution_count": 31,
   "metadata": {},
   "outputs": [],
   "source": [
    "# Example of feeding in an image, 1 image, size 4x4, depth 1)\n",
    "x_shape = [1,4,4,1]\n",
    "x_val = np.random.uniform(size=x_shape)\n",
    "x_data = tf.placeholder(tf.float32,shape=x_shape)"
   ]
  },
  {
   "cell_type": "code",
   "execution_count": 23,
   "metadata": {},
   "outputs": [],
   "source": [
    "my_filter = tf.constant(0.25, shape=[2,2,1,1])\n",
    "my_strides = [1,2,2,1]\n",
    "\n",
    "# image is 4x4, filter is 2x2, padding of zeros to keep it same size, stride of 2 makes the output 2x2\n",
    "mov_avg_layer = tf.nn.conv2d(x_data,my_filter,my_strides,padding='SAME',name='Moving_Avg_Window')"
   ]
  },
  {
   "cell_type": "code",
   "execution_count": 24,
   "metadata": {},
   "outputs": [],
   "source": [
    "# input our resulting 2x2 image, multiply it by another 2x2, and then add 1s to it, basically ax+b\n",
    "def custom_layer(input_matrix):\n",
    "    input_matrix_squeezed = tf.squeeze(input_matrix)\n",
    "    # 2x2 constant\n",
    "    A = tf.constant([[1.,2.],[-1.,3.]])\n",
    "    # \n",
    "    B = tf.constant(1.,shape=[2,2])\n",
    "    temp1 = tf.matmul(A,input_matrix_squeezed)\n",
    "    temp = tf.add(temp1,B)\n",
    "    return tf.sigmoid(temp)"
   ]
  },
  {
   "cell_type": "code",
   "execution_count": 27,
   "metadata": {},
   "outputs": [],
   "source": [
    "# We created a custom layer above, but we need to put this layer on the graph with a named scope\n",
    "# This makes it identifiable and collapsible/expandable on the computational graph\n",
    "with tf.name_scope('Custom_Layer') as scope:\n",
    "    custom_layer1 = custom_layer(mov_avg_layer)"
   ]
  },
  {
   "cell_type": "code",
   "execution_count": 30,
   "metadata": {},
   "outputs": [
    {
     "name": "stdout",
     "output_type": "stream",
     "text": [
      "[[0.87691295 0.9499861 ]\n [0.813603   0.90669864]]\n"
     ]
    }
   ],
   "source": [
    "print(sess.run(custom_layer1,feed_dict={x_data:x_val}))"
   ]
  },
  {
   "cell_type": "code",
   "execution_count": null,
   "metadata": {},
   "outputs": [],
   "source": [
    "# Implementing loss function, page 35"
   ]
  }
 ],
 "metadata": {
  "kernelspec": {
   "display_name": "Python 2",
   "language": "python",
   "name": "python2"
  },
  "language_info": {
   "codemirror_mode": {
    "name": "ipython",
    "version": 2
   },
   "file_extension": ".py",
   "mimetype": "text/x-python",
   "name": "python",
   "nbconvert_exporter": "python",
   "pygments_lexer": "ipython2",
   "version": "2.7.6"
  }
 },
 "nbformat": 4,
 "nbformat_minor": 0
}
