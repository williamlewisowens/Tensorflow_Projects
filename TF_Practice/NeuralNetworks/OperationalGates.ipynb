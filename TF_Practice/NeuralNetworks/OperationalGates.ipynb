{
 "cells": [
  {
   "cell_type": "code",
   "execution_count": 1,
   "metadata": {
    "collapsed": true
   },
   "outputs": [],
   "source": [
    "# f(x) = a.x + b\n",
    "import tensorflow as tf\n",
    "sess = tf.Session()"
   ]
  },
  {
   "cell_type": "code",
   "execution_count": 2,
   "metadata": {},
   "outputs": [],
   "source": [
    "a = tf.Variable(tf.constant(1.))\n",
    "b = tf.Variable(tf.constant(1.))\n",
    "x_val = 5.\n",
    "x_data = tf.placeholder(dtype=tf.float32)\n",
    "\n",
    "two_gate = tf.add(tf.multiply(x_data,a),b)\n",
    "\n",
    "loss = tf.square(tf.subtract(two_gate,50.))\n",
    "\n",
    "my_opt = tf.train.GradientDescentOptimizer(0.01)\n",
    "train_step = my_opt.minimize(loss)\n",
    "\n",
    "init = tf.global_variables_initializer()\n",
    "sess.run(init)"
   ]
  },
  {
   "cell_type": "code",
   "execution_count": 3,
   "metadata": {},
   "outputs": [
    {
     "name": "stdout",
     "output_type": "stream",
     "text": [
      "\nOptimizing Two Gate Output to 50.\n5.4 * 5.0 + 1.88= 28.88\n7.512 * 5.0 + 2.3024= 39.8624\n8.52576 * 5.0 + 2.5051522= 45.133953\n9.012364 * 5.0 + 2.6024733= 47.664295\n9.2459345 * 5.0 + 2.6491873= 48.87886\n9.358048 * 5.0 + 2.67161= 49.461853\n9.411863 * 5.0 + 2.682373= 49.74169\n9.437695 * 5.0 + 2.687539= 49.87601\n9.450093 * 5.0 + 2.690019= 49.940483\n9.456045 * 5.0 + 2.6912093= 49.971436\n"
     ]
    }
   ],
   "source": [
    "print('\\nOptimizing Two Gate Output to 50.')\n",
    "for i in range(10):\n",
    "    # Run the train step\n",
    "    sess.run(train_step, feed_dict={x_data: x_val})\n",
    "    # Get the a and b values\n",
    "    a_val, b_val = (sess.run(a), sess.run(b))\n",
    "    # Run the two-gate graph output\n",
    "    two_gate_output = sess.run(two_gate, feed_dict={x_data: x_val})\n",
    "    print(str(a_val) + ' * ' + str(x_val) + ' + ' + str(b_val) + '= ' + str(two_gate_output))"
   ]
  },
  {
   "cell_type": "code",
   "execution_count": null,
   "metadata": {},
   "outputs": [],
   "source": []
  }
 ],
 "metadata": {
  "kernelspec": {
   "display_name": "Python 2",
   "language": "python",
   "name": "python2"
  },
  "language_info": {
   "codemirror_mode": {
    "name": "ipython",
    "version": 2
   },
   "file_extension": ".py",
   "mimetype": "text/x-python",
   "name": "python",
   "nbconvert_exporter": "python",
   "pygments_lexer": "ipython2",
   "version": "2.7.6"
  }
 },
 "nbformat": 4,
 "nbformat_minor": 0
}
